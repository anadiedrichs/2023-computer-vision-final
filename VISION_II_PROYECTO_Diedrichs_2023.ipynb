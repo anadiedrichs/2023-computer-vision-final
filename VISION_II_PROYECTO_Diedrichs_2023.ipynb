{
  "nbformat": 4,
  "nbformat_minor": 0,
  "metadata": {
    "colab": {
      "private_outputs": true,
      "provenance": [],
      "authorship_tag": "ABX9TyMd0lMGbSqVyOFWkKeVwL6i",
      "include_colab_link": true
    },
    "kernelspec": {
      "name": "python3",
      "display_name": "Python 3"
    },
    "language_info": {
      "name": "python"
    }
  },
  "cells": [
    {
      "cell_type": "markdown",
      "metadata": {
        "id": "view-in-github",
        "colab_type": "text"
      },
      "source": [
        "<a href=\"https://colab.research.google.com/github/anadiedrichs/2023-computer-vision-final/blob/main/VISION_II_PROYECTO_Diedrichs_2023.ipynb\" target=\"_parent\"><img src=\"https://colab.research.google.com/assets/colab-badge.svg\" alt=\"Open In Colab\"/></a>"
      ]
    },
    {
      "cell_type": "markdown",
      "source": [
        "# Trabajo final Visión Computacional II\n",
        "\n",
        "## Datos de la alumna:\n",
        "\n",
        "Ana Laura Diedrichs\n",
        "Email: analauradiedrichs@gmail.com\n",
        "SIU a0902\n",
        "\n",
        "## Dataset\n",
        "\n",
        "\n",
        "\n",
        "https://www.kaggle.com/datasets/muhriddinmuxiddinov/fruits-and-vegetables-dataset\n",
        "\n",
        "\n"
      ],
      "metadata": {
        "id": "tLmZzVGtaTgb"
      }
    },
    {
      "cell_type": "code",
      "execution_count": null,
      "metadata": {
        "id": "Vi9emYa2Zcwn"
      },
      "outputs": [],
      "source": []
    },
    {
      "cell_type": "code",
      "source": [],
      "metadata": {
        "id": "RN6L6gzwbJqs"
      },
      "execution_count": null,
      "outputs": []
    },
    {
      "cell_type": "markdown",
      "source": [
        "# Referencias\n",
        "\n",
        "## Dataset\n",
        "\n",
        "Mukhriddin Mukhiddinov. (2022). <i>Fruits and Vegetables dataset</i> [Data set]. Kaggle. https://doi.org/10.34740/KAGGLE/DS/2468468\n",
        "\n",
        "## Paper\n",
        "\n",
        "Mukhiddinov, M.; Muminov, A.; Cho, J. Improved Classification Approach for Fruits and Vegetables Freshness Based on Deep Learning. Sensors 2022, 22, 8192. https://doi.org/10.3390/s22218192\n",
        "\n"
      ],
      "metadata": {
        "id": "PmsrL_Uga4va"
      }
    }
  ]
}
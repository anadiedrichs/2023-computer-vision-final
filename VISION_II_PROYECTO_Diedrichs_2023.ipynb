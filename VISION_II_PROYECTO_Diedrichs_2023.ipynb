{
  "nbformat": 4,
  "nbformat_minor": 0,
  "metadata": {
    "colab": {
      "provenance": [],
      "toc_visible": true,
      "gpuType": "T4",
      "authorship_tag": "ABX9TyPpO7iqAwGmWNpSHEEFp3Tl",
      "include_colab_link": true
    },
    "kernelspec": {
      "name": "python3",
      "display_name": "Python 3"
    },
    "language_info": {
      "name": "python"
    },
    "accelerator": "GPU"
  },
  "cells": [
    {
      "cell_type": "markdown",
      "metadata": {
        "id": "view-in-github",
        "colab_type": "text"
      },
      "source": [
        "<a href=\"https://colab.research.google.com/github/anadiedrichs/2023-computer-vision-final/blob/main/VISION_II_PROYECTO_Diedrichs_2023.ipynb\" target=\"_parent\"><img src=\"https://colab.research.google.com/assets/colab-badge.svg\" alt=\"Open In Colab\"/></a>"
      ]
    },
    {
      "cell_type": "markdown",
      "source": [
        "# Trabajo final Visión Computacional II\n",
        "\n",
        "## Datos de la alumna:\n",
        "\n",
        "Ana Laura Diedrichs\n",
        "\n",
        "Email: analauradiedrichs@gmail.com\n",
        "\n",
        "SIU a0902\n",
        "\n",
        "## Motivación\n",
        "\n",
        "La aplicación y uso de modelos de detección de imágenes aplicados a frutas y verduras ofrece una serie de beneficios significativos en diversos ámbitos, especialmente en la lucha contra el desperdicio de alimentos. Según la Organización de las Naciones Unidas para la Alimentación y la Agricultura (FAO), aproximadamente un tercio de todos los alimentos producidos en el mundo para consumo humano se pierde o desperdicia cada año. Esta cifra equivale a aproximadamente 1.3 mil millones de toneladas de alimentos. Se estima que el valor económico total de los alimentos desperdiciados anualmente alcanza los 750 mil millones de dólares. Esta cifra incluye los costos de producción, transporte, almacenamiento y pérdida de ingresos para los agricultores y otros actores de la cadena de suministro.\n",
        "\n",
        "Los modelos de detección de imágenes aplicados a frutas y verduras no solo ofrecen beneficios en términos de eficiencia y calidad en la cadena de suministro, sino que también juegan un papel crucial en la reducción del desperdicio de alimentos. Alguna de las ventajas que podría brindar la detección y clasificación de vegetales serían:\n",
        "\n",
        "* Minimización del desperdicio en la producción: los modelos de detección de imágenes pueden utilizarse en las etapas tempranas de la cadena de producción agrícola para identificar cultivos con problemas de salud o plagas. Al detectar oportunamente estos problemas, los agricultores pueden tomar medidas preventivas específicas en áreas afectadas, evitando pérdidas masivas y reduciendo el desperdicio desde el origen.\n",
        "* Clasificación más precisa en el empaque: la detección de imágenes permite una clasificación más precisa de frutas y verduras durante el proceso de empaque y selección, lo que asegura que solo los productos de alta calidad y aptos para el consumo lleguen a los mercados. Esto reduce la cantidad de alimentos descartados debido a defectos mínimos que no afectan su valor nutricional ni su sabor.\n",
        "* Extensión de la vida útil de los alimentos: al detectar frutas y verduras maduras o con señales de deterioro avanzado, se pueden priorizar para su venta o procesamiento inmediato, lo que contribuye a extender la vida útil de los productos en los estantes de los supermercados o en los hogares. Esto disminuye la probabilidad de que los alimentos sean descartados antes de su consumo óptimo.\n",
        "* Aprovechamiento de alimentos \"feos\": Los modelos de detección de imágenes también han demostrado ser efectivos en promover la comercialización y consumo de frutas y verduras estéticamente menos atractivas pero perfectamente aptas para el consumo. Al impulsar la venta de productos \"feos\" o \"imperfectos\", se reduce el desperdicio alimentario y se fomenta una cultura de consumo más sostenible.\n",
        "* Gestión más eficiente de inventarios: para evitar la sobrecompra y el exceso de inventario, lo que a su vez reduce las posibilidades de que los alimentos no se vendan a tiempo y terminen siendo desperdiciados.\n",
        "*Donación de alimentos seguros: Con la detección de imágenes, es posible identificar frutas y verduras que están cerca de alcanzar su fecha límite de consumo pero que aún son seguras para su ingesta. Estos alimentos pueden dirigirse hacia programas de donación de alimentos o descuentos especiales, evitando que se desperdicien y llegando a personas necesitadas.\n",
        "\n",
        "Como interés personal, y ajeno al alcance de esta materia, me gustaría poder obtener un modelo para ejecutar en un sistema embebido para que pueda ser aplicado en refrigeradores o cadenas de producción, alertando los ingredientes disponibles.\n",
        "\n",
        "\n"
      ],
      "metadata": {
        "id": "tLmZzVGtaTgb"
      }
    },
    {
      "cell_type": "markdown",
      "source": [
        "## Librerias"
      ],
      "metadata": {
        "id": "3VW0azUHFfIY"
      }
    },
    {
      "cell_type": "code",
      "source": [
        "from keras.models import Sequential , Model\n",
        "from keras.layers import Conv2D, MaxPooling2D, Activation, Dropout, Flatten, Dense, GlobalAveragePooling2D\n",
        "from keras.utils import img_to_array, load_img\n",
        "from keras.preprocessing.image import ImageDataGenerator # data augmentation\n",
        "import matplotlib.pyplot as plt\n",
        "from glob import glob # directorios\n",
        "# Transfer learning\n",
        "# https://keras.io/api/applications/mobilenet/\n",
        "from keras.applications.mobilenet import MobileNet, preprocess_input\n"
      ],
      "metadata": {
        "id": "9RzPcC37Fg_p"
      },
      "execution_count": 1,
      "outputs": []
    },
    {
      "cell_type": "markdown",
      "source": [
        "\n",
        "## Dataset\n",
        "\n",
        "El conjunto de datos a utilizar será el Fruit360 [1]\n",
        "\n",
        "\n"
      ],
      "metadata": {
        "id": "e4KVRLrFBOpC"
      }
    },
    {
      "cell_type": "markdown",
      "source": [
        "### Descarga del dataset\n",
        "\n",
        "Clonamos el repositorio de Git alojado en Github del dataset."
      ],
      "metadata": {
        "id": "TqB4wtD3BLDI"
      }
    },
    {
      "cell_type": "code",
      "source": [
        "!git clone https://github.com/Horea94/Fruit-Images-Dataset.git"
      ],
      "metadata": {
        "colab": {
          "base_uri": "https://localhost:8080/"
        },
        "id": "IB-tJX23BBLS",
        "outputId": "e713773b-92fd-4c7d-83cf-5d3b62b60e38"
      },
      "execution_count": 2,
      "outputs": [
        {
          "output_type": "stream",
          "name": "stdout",
          "text": [
            "Cloning into 'Fruit-Images-Dataset'...\n",
            "remote: Enumerating objects: 385858, done.\u001b[K\n",
            "remote: Counting objects: 100% (8693/8693), done.\u001b[K\n",
            "remote: Compressing objects: 100% (8659/8659), done.\u001b[K\n",
            "remote: Total 385858 (delta 37), reused 8688 (delta 34), pack-reused 377165\u001b[K\n",
            "Receiving objects: 100% (385858/385858), 2.10 GiB | 29.32 MiB/s, done.\n",
            "Resolving deltas: 100% (1197/1197), done.\n",
            "Updating files: 100% (90503/90503), done.\n"
          ]
        }
      ]
    },
    {
      "cell_type": "code",
      "source": [
        "!ls Fruit-Images-Dataset/Test"
      ],
      "metadata": {
        "colab": {
          "base_uri": "https://localhost:8080/"
        },
        "id": "7vMygFJAEW4X",
        "outputId": "7adc10a8-f4ac-475a-be8c-0a811708d300"
      },
      "execution_count": 3,
      "outputs": [
        {
          "output_type": "stream",
          "name": "stdout",
          "text": [
            "'Apple Braeburn'       'Grape Blue'\t     'Pear Monster'\n",
            "'Apple Crimson Snow'   'Grapefruit Pink'     'Pear Red'\n",
            "'Apple Golden 1'       'Grapefruit White'    'Pear Stone'\n",
            "'Apple Golden 2'       'Grape Pink'\t     'Pear Williams'\n",
            "'Apple Golden 3'       'Grape White'\t      Pepino\n",
            "'Apple Granny Smith'   'Grape White 2'\t     'Pepper Green'\n",
            "'Apple Pink Lady'      'Grape White 3'\t     'Pepper Orange'\n",
            "'Apple Red 1'\t       'Grape White 4'\t     'Pepper Red'\n",
            "'Apple Red 2'\t        Guava\t\t     'Pepper Yellow'\n",
            "'Apple Red 3'\t        Hazelnut\t      Physalis\n",
            "'Apple Red Delicious'   Huckleberry\t     'Physalis with Husk'\n",
            "'Apple Red Yellow 1'    Kaki\t\t      Pineapple\n",
            "'Apple Red Yellow 2'    Kiwi\t\t     'Pineapple Mini'\n",
            " Apricot\t        Kohlrabi\t     'Pitahaya Red'\n",
            " Avocado\t        Kumquats\t      Plum\n",
            "'Avocado ripe'\t        Lemon\t\t     'Plum 2'\n",
            " Banana\t\t       'Lemon Meyer'\t     'Plum 3'\n",
            "'Banana Lady Finger'    Limes\t\t      Pomegranate\n",
            "'Banana Red'\t        Lychee\t\t     'Pomelo Sweetie'\n",
            " Beetroot\t        Mandarine\t     'Potato Red'\n",
            " Blueberry\t        Mango\t\t     'Potato Red Washed'\n",
            "'Cactus fruit'\t       'Mango Red'\t     'Potato Sweet'\n",
            "'Cantaloupe 1'\t        Mangostan\t     'Potato White'\n",
            "'Cantaloupe 2'\t        Maracuja\t      Quince\n",
            " Carambula\t       'Melon Piel de Sapo'   Rambutan\n",
            " Cauliflower\t        Mulberry\t      Raspberry\n",
            "'Cherry 1'\t        Nectarine\t      Redcurrant\n",
            "'Cherry 2'\t       'Nectarine Flat'       Salak\n",
            "'Cherry Rainier'       'Nut Forest'\t      Strawberry\n",
            "'Cherry Wax Black'     'Nut Pecan'\t     'Strawberry Wedge'\n",
            "'Cherry Wax Red'       'Onion Red'\t      Tamarillo\n",
            "'Cherry Wax Yellow'    'Onion Red Peeled'     Tangelo\n",
            " Chestnut\t       'Onion White'\t     'Tomato 1'\n",
            " Clementine\t        Orange\t\t     'Tomato 2'\n",
            " Cocos\t\t        Papaya\t\t     'Tomato 3'\n",
            " Corn\t\t       'Passion Fruit'\t     'Tomato 4'\n",
            "'Corn Husk'\t        Peach\t\t     'Tomato Cherry Red'\n",
            "'Cucumber Ripe'        'Peach 2'\t     'Tomato Heart'\n",
            "'Cucumber Ripe 2'      'Peach Flat'\t     'Tomato Maroon'\n",
            " Dates\t\t        Pear\t\t     'Tomato not Ripened'\n",
            " Eggplant\t       'Pear 2'\t\t     'Tomato Yellow'\n",
            " Fig\t\t       'Pear Abate'\t      Walnut\n",
            "'Ginger Root'\t       'Pear Forelle'\t      Watermelon\n",
            " Granadilla\t       'Pear Kaiser'\n"
          ]
        }
      ]
    },
    {
      "cell_type": "code",
      "source": [
        "!ls Fruit-Images-Dataset/Training/Blueberry"
      ],
      "metadata": {
        "colab": {
          "base_uri": "https://localhost:8080/"
        },
        "id": "js-0o7k4FJaB",
        "outputId": "34570129-09f9-4830-c0b0-31c07bfa25fb"
      },
      "execution_count": 4,
      "outputs": [
        {
          "output_type": "stream",
          "name": "stdout",
          "text": [
            "0_100.jpg    20_100.jpg   42_100.jpg\t r_141_100.jpg\tr_281_100.jpg\n",
            "100_100.jpg  203_100.jpg  43_100.jpg\t r_142_100.jpg\tr_282_100.jpg\n",
            "10_100.jpg   204_100.jpg  44_100.jpg\t r_143_100.jpg\tr_283_100.jpg\n",
            "101_100.jpg  205_100.jpg  46_100.jpg\t r_144_100.jpg\tr_284_100.jpg\n",
            "102_100.jpg  206_100.jpg  47_100.jpg\t r_145_100.jpg\tr_285_100.jpg\n",
            "103_100.jpg  209_100.jpg  48_100.jpg\t r_146_100.jpg\tr_286_100.jpg\n",
            "104_100.jpg  2_100.jpg\t  49_100.jpg\t r_147_100.jpg\tr_287_100.jpg\n",
            "105_100.jpg  21_100.jpg   5_100.jpg\t r_148_100.jpg\tr_288_100.jpg\n",
            "106_100.jpg  211_100.jpg  52_100.jpg\t r_149_100.jpg\tr_289_100.jpg\n",
            "107_100.jpg  214_100.jpg  60_100.jpg\t r_150_100.jpg\tr_290_100.jpg\n",
            "108_100.jpg  218_100.jpg  6_100.jpg\t r_15_100.jpg\tr_29_100.jpg\n",
            "109_100.jpg  219_100.jpg  61_100.jpg\t r_151_100.jpg\tr_291_100.jpg\n",
            "1_100.jpg    22_100.jpg   62_100.jpg\t r_152_100.jpg\tr_292_100.jpg\n",
            "110_100.jpg  222_100.jpg  63_100.jpg\t r_153_100.jpg\tr_293_100.jpg\n",
            "11_100.jpg   223_100.jpg  66_100.jpg\t r_154_100.jpg\tr_294_100.jpg\n",
            "111_100.jpg  224_100.jpg  68_100.jpg\t r_155_100.jpg\tr_295_100.jpg\n",
            "112_100.jpg  227_100.jpg  7_100.jpg\t r_156_100.jpg\tr_296_100.jpg\n",
            "113_100.jpg  228_100.jpg  72_100.jpg\t r_157_100.jpg\tr_297_100.jpg\n",
            "114_100.jpg  229_100.jpg  73_100.jpg\t r_158_100.jpg\tr_298_100.jpg\n",
            "115_100.jpg  23_100.jpg   74_100.jpg\t r_159_100.jpg\tr_299_100.jpg\n",
            "116_100.jpg  24_100.jpg   75_100.jpg\t r_160_100.jpg\tr_300_100.jpg\n",
            "117_100.jpg  241_100.jpg  76_100.jpg\t r_16_100.jpg\tr_30_100.jpg\n",
            "119_100.jpg  245_100.jpg  77_100.jpg\t r_161_100.jpg\tr_301_100.jpg\n",
            "120_100.jpg  246_100.jpg  78_100.jpg\t r_162_100.jpg\tr_302_100.jpg\n",
            "12_100.jpg   248_100.jpg  79_100.jpg\t r_163_100.jpg\tr_303_100.jpg\n",
            "121_100.jpg  25_100.jpg   80_100.jpg\t r_164_100.jpg\tr_304_100.jpg\n",
            "122_100.jpg  251_100.jpg  8_100.jpg\t r_165_100.jpg\tr_305_100.jpg\n",
            "123_100.jpg  252_100.jpg  83_100.jpg\t r_166_100.jpg\tr_306_100.jpg\n",
            "124_100.jpg  253_100.jpg  84_100.jpg\t r_167_100.jpg\tr_307_100.jpg\n",
            "126_100.jpg  254_100.jpg  85_100.jpg\t r_168_100.jpg\tr_3_100.jpg\n",
            "128_100.jpg  255_100.jpg  86_100.jpg\t r_169_100.jpg\tr_31_100.jpg\n",
            "129_100.jpg  256_100.jpg  87_100.jpg\t r_170_100.jpg\tr_32_100.jpg\n",
            "13_100.jpg   257_100.jpg  88_100.jpg\t r_17_100.jpg\tr_33_100.jpg\n",
            "131_100.jpg  258_100.jpg  89_100.jpg\t r_171_100.jpg\tr_34_100.jpg\n",
            "132_100.jpg  259_100.jpg  90_100.jpg\t r_172_100.jpg\tr_35_100.jpg\n",
            "133_100.jpg  260_100.jpg  9_100.jpg\t r_173_100.jpg\tr_36_100.jpg\n",
            "134_100.jpg  26_100.jpg   91_100.jpg\t r_174_100.jpg\tr_37_100.jpg\n",
            "135_100.jpg  261_100.jpg  92_100.jpg\t r_175_100.jpg\tr_38_100.jpg\n",
            "136_100.jpg  262_100.jpg  93_100.jpg\t r_176_100.jpg\tr_39_100.jpg\n",
            "137_100.jpg  263_100.jpg  94_100.jpg\t r_177_100.jpg\tr_40_100.jpg\n",
            "140_100.jpg  264_100.jpg  95_100.jpg\t r_178_100.jpg\tr_4_100.jpg\n",
            "14_100.jpg   265_100.jpg  96_100.jpg\t r_179_100.jpg\tr_41_100.jpg\n",
            "141_100.jpg  266_100.jpg  97_100.jpg\t r_180_100.jpg\tr_42_100.jpg\n",
            "142_100.jpg  267_100.jpg  98_100.jpg\t r_18_100.jpg\tr_43_100.jpg\n",
            "143_100.jpg  268_100.jpg  99_100.jpg\t r_181_100.jpg\tr_44_100.jpg\n",
            "144_100.jpg  269_100.jpg  r_0_100.jpg\t r_182_100.jpg\tr_45_100.jpg\n",
            "145_100.jpg  270_100.jpg  r_100_100.jpg  r_183_100.jpg\tr_46_100.jpg\n",
            "146_100.jpg  27_100.jpg   r_10_100.jpg\t r_184_100.jpg\tr_47_100.jpg\n",
            "147_100.jpg  271_100.jpg  r_101_100.jpg  r_185_100.jpg\tr_48_100.jpg\n",
            "148_100.jpg  272_100.jpg  r_102_100.jpg  r_186_100.jpg\tr_49_100.jpg\n",
            "149_100.jpg  273_100.jpg  r_103_100.jpg  r_187_100.jpg\tr_50_100.jpg\n",
            "150_100.jpg  274_100.jpg  r_104_100.jpg  r_188_100.jpg\tr_5_100.jpg\n",
            "15_100.jpg   275_100.jpg  r_105_100.jpg  r_189_100.jpg\tr_51_100.jpg\n",
            "151_100.jpg  276_100.jpg  r_106_100.jpg  r_190_100.jpg\tr_52_100.jpg\n",
            "152_100.jpg  277_100.jpg  r_107_100.jpg  r_19_100.jpg\tr_53_100.jpg\n",
            "153_100.jpg  278_100.jpg  r_108_100.jpg  r_20_100.jpg\tr_54_100.jpg\n",
            "154_100.jpg  279_100.jpg  r_109_100.jpg  r_2_100.jpg\tr_56_100.jpg\n",
            "155_100.jpg  280_100.jpg  r_1_100.jpg\t r_21_100.jpg\tr_58_100.jpg\n",
            "156_100.jpg  28_100.jpg   r_110_100.jpg  r_22_100.jpg\tr_59_100.jpg\n",
            "157_100.jpg  281_100.jpg  r_11_100.jpg\t r_23_100.jpg\tr_60_100.jpg\n",
            "158_100.jpg  282_100.jpg  r_111_100.jpg  r_24_100.jpg\tr_6_100.jpg\n",
            "159_100.jpg  283_100.jpg  r_112_100.jpg  r_25_100.jpg\tr_61_100.jpg\n",
            "160_100.jpg  284_100.jpg  r_113_100.jpg  r_252_100.jpg\tr_62_100.jpg\n",
            "16_100.jpg   285_100.jpg  r_114_100.jpg  r_254_100.jpg\tr_63_100.jpg\n",
            "161_100.jpg  286_100.jpg  r_115_100.jpg  r_255_100.jpg\tr_64_100.jpg\n",
            "162_100.jpg  287_100.jpg  r_116_100.jpg  r_256_100.jpg\tr_66_100.jpg\n",
            "163_100.jpg  288_100.jpg  r_117_100.jpg  r_257_100.jpg\tr_68_100.jpg\n",
            "164_100.jpg  289_100.jpg  r_118_100.jpg  r_258_100.jpg\tr_7_100.jpg\n",
            "165_100.jpg  290_100.jpg  r_119_100.jpg  r_259_100.jpg\tr_71_100.jpg\n",
            "166_100.jpg  29_100.jpg   r_120_100.jpg  r_260_100.jpg\tr_80_100.jpg\n",
            "167_100.jpg  291_100.jpg  r_12_100.jpg\t r_26_100.jpg\tr_8_100.jpg\n",
            "168_100.jpg  292_100.jpg  r_121_100.jpg  r_261_100.jpg\tr_82_100.jpg\n",
            "17_100.jpg   293_100.jpg  r_122_100.jpg  r_262_100.jpg\tr_83_100.jpg\n",
            "171_100.jpg  294_100.jpg  r_123_100.jpg  r_263_100.jpg\tr_84_100.jpg\n",
            "172_100.jpg  295_100.jpg  r_124_100.jpg  r_264_100.jpg\tr_85_100.jpg\n",
            "173_100.jpg  296_100.jpg  r_125_100.jpg  r_265_100.jpg\tr_86_100.jpg\n",
            "175_100.jpg  297_100.jpg  r_126_100.jpg  r_266_100.jpg\tr_87_100.jpg\n",
            "176_100.jpg  298_100.jpg  r_127_100.jpg  r_267_100.jpg\tr_88_100.jpg\n",
            "177_100.jpg  299_100.jpg  r_128_100.jpg  r_268_100.jpg\tr_89_100.jpg\n",
            "178_100.jpg  300_100.jpg  r_129_100.jpg  r_269_100.jpg\tr_90_100.jpg\n",
            "179_100.jpg  301_100.jpg  r_130_100.jpg  r_270_100.jpg\tr_9_100.jpg\n",
            "180_100.jpg  302_100.jpg  r_13_100.jpg\t r_27_100.jpg\tr_91_100.jpg\n",
            "18_100.jpg   303_100.jpg  r_131_100.jpg  r_271_100.jpg\tr_92_100.jpg\n",
            "182_100.jpg  304_100.jpg  r_132_100.jpg  r_272_100.jpg\tr_93_100.jpg\n",
            "183_100.jpg  305_100.jpg  r_133_100.jpg  r_273_100.jpg\tr_94_100.jpg\n",
            "184_100.jpg  306_100.jpg  r_134_100.jpg  r_274_100.jpg\tr_95_100.jpg\n",
            "188_100.jpg  307_100.jpg  r_135_100.jpg  r_275_100.jpg\tr_96_100.jpg\n",
            "19_100.jpg   3_100.jpg\t  r_136_100.jpg  r_276_100.jpg\tr_97_100.jpg\n",
            "192_100.jpg  35_100.jpg   r_137_100.jpg  r_277_100.jpg\tr_98_100.jpg\n",
            "193_100.jpg  39_100.jpg   r_138_100.jpg  r_278_100.jpg\tr_99_100.jpg\n",
            "196_100.jpg  40_100.jpg   r_139_100.jpg  r_279_100.jpg\n",
            "198_100.jpg  4_100.jpg\t  r_140_100.jpg  r_280_100.jpg\n",
            "199_100.jpg  41_100.jpg   r_14_100.jpg\t r_28_100.jpg\n"
          ]
        }
      ]
    },
    {
      "cell_type": "markdown",
      "source": [
        "### Exploración del dataset"
      ],
      "metadata": {
        "id": "VPRvS5PdIHnp"
      }
    },
    {
      "cell_type": "code",
      "source": [
        "train_path = r\"./Fruit-Images-Dataset/Training/\"\n",
        "test_path = r\"./Fruit-Images-Dataset/Test/\"\n",
        "\n",
        "img = load_img(train_path + \"Apple Braeburn/0_100.jpg\")\n",
        "plt.imshow(img)\n",
        "plt.axis(\"off\")\n",
        "plt.show()\n"
      ],
      "metadata": {
        "colab": {
          "base_uri": "https://localhost:8080/",
          "height": 406
        },
        "id": "spyRStNZEapK",
        "outputId": "6648b0f5-d0a0-4743-bb27-0415fcf139c8"
      },
      "execution_count": 5,
      "outputs": [
        {
          "output_type": "display_data",
          "data": {
            "text/plain": [
              "<Figure size 640x480 with 1 Axes>"
            ],
            "image/png": "[encoded data removed]"
          },
          "metadata": {}
        }
      ]
    },
    {
      "cell_type": "code",
      "source": [
        "img = load_img(train_path + \"Blueberry/r_0_100.jpg\")\n",
        "plt.imshow(img)\n",
        "plt.axis(\"off\")\n",
        "plt.show()\n"
      ],
      "metadata": {
        "colab": {
          "base_uri": "https://localhost:8080/",
          "height": 406
        },
        "outputId": "1c6a08ac-af2d-4804-98e8-0c0eaf67f749",
        "id": "GXd0033-GtqK"
      },
      "execution_count": 6,
      "outputs": [
        {
          "output_type": "display_data",
          "data": {
            "text/plain": [
              "<Figure size 640x480 with 1 Axes>"
            ],
            "image/png": "[encoded data removed]"
          },
          "metadata": {}
        }
      ]
    },
    {
      "cell_type": "code",
      "source": [
        "img = load_img(train_path + \"Blueberry/0_100.jpg\")\n",
        "plt.imshow(img)\n",
        "plt.axis(\"off\")\n",
        "plt.show()\n"
      ],
      "metadata": {
        "colab": {
          "base_uri": "https://localhost:8080/",
          "height": 406
        },
        "id": "1PKGxcZ_HGpA",
        "outputId": "8cee0ce4-0d8b-4084-e961-6611cbf54b77"
      },
      "execution_count": 7,
      "outputs": [
        {
          "output_type": "display_data",
          "data": {
            "text/plain": [
              "<Figure size 640x480 with 1 Axes>"
            ],
            "image/png": "[encoded data removed]"
          },
          "metadata": {}
        }
      ]
    },
    {
      "cell_type": "markdown",
      "source": [
        "El tamaño de la imagen es 100 x 100 píxeles (alto x ancho x profundidad o cantidad de canales que son tres)"
      ],
      "metadata": {
        "id": "gh6I5c5KIz-F"
      }
    },
    {
      "cell_type": "code",
      "source": [
        "x = img_to_array(img)\n",
        "print(x.shape)"
      ],
      "metadata": {
        "colab": {
          "base_uri": "https://localhost:8080/"
        },
        "id": "uWDIZBN5IzkE",
        "outputId": "67cd1542-7f1e-45a3-d13d-6988b778debd"
      },
      "execution_count": 8,
      "outputs": [
        {
          "output_type": "stream",
          "name": "stdout",
          "text": [
            "(100, 100, 3)\n"
          ]
        }
      ]
    },
    {
      "cell_type": "markdown",
      "source": [
        "Cada clase es un tipo de fruta o verdura y está almacenada en su directorio, por eso contamos la cantidad de directorios en la carpeta de entrenamiento."
      ],
      "metadata": {
        "id": "y0x3jU32JKS8"
      }
    },
    {
      "cell_type": "code",
      "source": [
        "className = glob(train_path + '/*' )\n",
        "numberOfClass = len(className)\n",
        "print(\"NumberOfClass: \",numberOfClass)"
      ],
      "metadata": {
        "colab": {
          "base_uri": "https://localhost:8080/"
        },
        "id": "bR9Z6oD1H3oE",
        "outputId": "c738c858-27c4-49e8-908c-4217102bc77a"
      },
      "execution_count": 9,
      "outputs": [
        {
          "output_type": "stream",
          "name": "stdout",
          "text": [
            "NumberOfClass:  131\n"
          ]
        }
      ]
    },
    {
      "cell_type": "markdown",
      "source": [
        "Quiero saber cuántas imágenes hay por cada clase para observar si el conjunto de datos se encuentra o no balanceado."
      ],
      "metadata": {
        "id": "d2JDXjw-J6Y4"
      }
    },
    {
      "cell_type": "code",
      "source": [
        "import os\n",
        "\n",
        "def count_files_in_directory(directory):\n",
        "    subdirectories = [d for d in os.listdir(directory) if os.path.isdir(os.path.join(directory, d))]\n",
        "\n",
        "    for subdirectory in subdirectories:\n",
        "        subdirectory_path = os.path.join(directory, subdirectory)\n",
        "        num_files = len([f for f in os.listdir(subdirectory_path) if os.path.isfile(os.path.join(subdirectory_path, f))])\n",
        "        print(f\"Clase: {subdirectory}, #: {num_files}\")\n",
        "\n",
        "count_files_in_directory(train_path)\n"
      ],
      "metadata": {
        "colab": {
          "base_uri": "https://localhost:8080/"
        },
        "id": "VE_vq-uCbCyo",
        "outputId": "5c07c160-1f35-45f8-f2a2-9057cdc314a8"
      },
      "execution_count": 10,
      "outputs": [
        {
          "output_type": "stream",
          "name": "stdout",
          "text": [
            "Clase: Guava, #: 490\n",
            "Clase: Redcurrant, #: 492\n",
            "Clase: Cocos, #: 490\n",
            "Clase: Pear Stone, #: 711\n",
            "Clase: Mango Red, #: 426\n",
            "Clase: Onion Red Peeled, #: 445\n",
            "Clase: Carambula, #: 490\n",
            "Clase: Mandarine, #: 490\n",
            "Clase: Dates, #: 490\n",
            "Clase: Tangelo, #: 490\n",
            "Clase: Pepper Yellow, #: 666\n",
            "Clase: Corn, #: 450\n",
            "Clase: Pomegranate, #: 492\n",
            "Clase: Apple Red 1, #: 492\n",
            "Clase: Tomato Cherry Red, #: 492\n",
            "Clase: Apple Granny Smith, #: 492\n",
            "Clase: Pear Red, #: 666\n",
            "Clase: Cherry Rainier, #: 738\n",
            "Clase: Grape Pink, #: 492\n",
            "Clase: Grapefruit Pink, #: 490\n",
            "Clase: Maracuja, #: 490\n",
            "Clase: Potato Red Washed, #: 453\n",
            "Clase: Nut Forest, #: 654\n",
            "Clase: Apple Golden 1, #: 480\n",
            "Clase: Peach, #: 492\n",
            "Clase: Huckleberry, #: 490\n",
            "Clase: Corn Husk, #: 462\n",
            "Clase: Tomato not Ripened, #: 474\n",
            "Clase: Cherry Wax Red, #: 492\n",
            "Clase: Eggplant, #: 468\n",
            "Clase: Cactus fruit, #: 490\n",
            "Clase: Pear Monster, #: 490\n",
            "Clase: Cucumber Ripe, #: 392\n",
            "Clase: Grape White, #: 490\n",
            "Clase: Peach 2, #: 738\n",
            "Clase: Grape White 2, #: 490\n",
            "Clase: Granadilla, #: 490\n",
            "Clase: Pear Kaiser, #: 300\n",
            "Clase: Passion Fruit, #: 490\n",
            "Clase: Mulberry, #: 492\n",
            "Clase: Rambutan, #: 492\n",
            "Clase: Cauliflower, #: 702\n",
            "Clase: Nectarine Flat, #: 480\n",
            "Clase: Potato Red, #: 450\n",
            "Clase: Mango, #: 490\n",
            "Clase: Salak, #: 490\n",
            "Clase: Watermelon, #: 475\n",
            "Clase: Hazelnut, #: 464\n",
            "Clase: Physalis, #: 492\n",
            "Clase: Cherry Wax Black, #: 492\n",
            "Clase: Pineapple, #: 490\n",
            "Clase: Pitahaya Red, #: 490\n",
            "Clase: Pomelo Sweetie, #: 450\n",
            "Clase: Apple Red Delicious, #: 490\n",
            "Clase: Papaya, #: 492\n",
            "Clase: Kohlrabi, #: 471\n",
            "Clase: Pepino, #: 490\n",
            "Clase: Lemon Meyer, #: 490\n",
            "Clase: Pear Abate, #: 490\n",
            "Clase: Cantaloupe 2, #: 492\n",
            "Clase: Apple Red 3, #: 429\n",
            "Clase: Lychee, #: 490\n",
            "Clase: Pear Williams, #: 490\n",
            "Clase: Grape White 3, #: 492\n",
            "Clase: Fig, #: 702\n",
            "Clase: Apple Golden 3, #: 481\n",
            "Clase: Kiwi, #: 466\n",
            "Clase: Nut Pecan, #: 534\n",
            "Clase: Banana, #: 490\n",
            "Clase: Quince, #: 490\n",
            "Clase: Kaki, #: 490\n",
            "Clase: Plum 2, #: 420\n",
            "Clase: Pepper Orange, #: 702\n",
            "Clase: Beetroot, #: 450\n",
            "Clase: Apple Red Yellow 1, #: 492\n",
            "Clase: Walnut, #: 735\n",
            "Clase: Potato White, #: 450\n",
            "Clase: Orange, #: 479\n",
            "Clase: Clementine, #: 490\n",
            "Clase: Cucumber Ripe 2, #: 468\n",
            "Clase: Tamarillo, #: 490\n",
            "Clase: Raspberry, #: 490\n",
            "Clase: Tomato 1, #: 738\n",
            "Clase: Banana Red, #: 490\n",
            "Clase: Limes, #: 490\n",
            "Clase: Apple Red 2, #: 492\n",
            "Clase: Pepper Green, #: 444\n",
            "Clase: Plum 3, #: 900\n",
            "Clase: Blueberry, #: 462\n",
            "Clase: Tomato Heart, #: 684\n",
            "Clase: Apple Braeburn, #: 492\n",
            "Clase: Grape White 4, #: 471\n",
            "Clase: Nectarine, #: 492\n",
            "Clase: Pear, #: 492\n",
            "Clase: Pineapple Mini, #: 493\n",
            "Clase: Cherry 1, #: 492\n",
            "Clase: Kumquats, #: 490\n",
            "Clase: Cantaloupe 1, #: 492\n",
            "Clase: Grape Blue, #: 984\n",
            "Clase: Apricot, #: 492\n",
            "Clase: Grapefruit White, #: 492\n",
            "Clase: Pear 2, #: 696\n",
            "Clase: Physalis with Husk, #: 492\n",
            "Clase: Peach Flat, #: 492\n",
            "Clase: Mangostan, #: 300\n",
            "Clase: Apple Golden 2, #: 492\n",
            "Clase: Pear Forelle, #: 702\n",
            "Clase: Melon Piel de Sapo, #: 738\n",
            "Clase: Cherry 2, #: 738\n",
            "Clase: Onion White, #: 438\n",
            "Clase: Avocado ripe, #: 491\n",
            "Clase: Strawberry, #: 492\n",
            "Clase: Ginger Root, #: 297\n",
            "Clase: Lemon, #: 492\n",
            "Clase: Strawberry Wedge, #: 738\n",
            "Clase: Potato Sweet, #: 450\n",
            "Clase: Avocado, #: 427\n",
            "Clase: Plum, #: 447\n",
            "Clase: Apple Red Yellow 2, #: 672\n",
            "Clase: Tomato 3, #: 738\n",
            "Clase: Chestnut, #: 450\n",
            "Clase: Onion Red, #: 450\n",
            "Clase: Tomato 4, #: 479\n",
            "Clase: Cherry Wax Yellow, #: 492\n",
            "Clase: Apple Pink Lady, #: 456\n",
            "Clase: Banana Lady Finger, #: 450\n",
            "Clase: Apple Crimson Snow, #: 444\n",
            "Clase: Tomato Yellow, #: 459\n",
            "Clase: Pepper Red, #: 666\n",
            "Clase: Tomato Maroon, #: 367\n",
            "Clase: Tomato 2, #: 672\n"
          ]
        }
      ]
    },
    {
      "cell_type": "markdown",
      "source": [
        "#### Propiedades del dataset\n",
        "\n",
        "* Número total de imágenes: 90483.\n",
        "\n",
        "* Tamaño del conjunto de entrenamiento: 67692 imágenes (una fruta o verdura por imagen).\n",
        "\n",
        "* Tamaño del conjunto de prueba: 22688 imágenes (una fruta o verdura por imagen).\n",
        "\n",
        "* Tamaño del conjunto de frutas múltiples: 103 imágenes (más de una fruta (o clase de fruta) por imagen)\n",
        "\n",
        "* Número de clases: 131 (frutas y verduras).\n",
        "\n",
        "* Tamaño de la imagen: 100x100 píxeles.\n",
        "\n",
        "* Formato de nombre de archivo: image_index_100.jpg (por ejemplo, 32_100.jpg) o r_image_index_100.jpg (por ejemplo, r_32_100.jpg) o r2_image_index_100.jpg o r3_image_index_100.jpg. \"r\" significa fruta rotada. \"r2\" significa que la fruta se giró alrededor del tercer eje. \"100\" proviene del tamaño de la imagen (100x100 píxeles).\n",
        "\n",
        "* Diferentes variedades de la misma fruta (manzana, por ejemplo) se almacenan como pertenecientes a diferentes clases.\n"
      ],
      "metadata": {
        "id": "YjV3ep9IIL64"
      }
    },
    {
      "cell_type": "markdown",
      "source": [
        "####TODO imagen matriz ejemplo mostrando todos los vegetales o un grupo"
      ],
      "metadata": {
        "id": "YrIebnKhcy3v"
      }
    },
    {
      "cell_type": "markdown",
      "source": [
        "\n",
        "## Objetivo\n",
        "\n",
        "La tarea a resolver es construir modelos de clasificación que permitan distinguir entre distintos tipos de vegetales de este dataset.\n",
        "\n",
        "Este sería un problema de clasificación multiclase. Para evaluar el desempeño utilizaremos métricas derivadas de las matriz de confusión como F1, precision y recall."
      ],
      "metadata": {
        "id": "__oPcsDLHaVN"
      }
    },
    {
      "cell_type": "markdown",
      "source": [
        "## Data Augmentation. Porque sí o porque no. Cuales se utilizaron y sus configuraciones."
      ],
      "metadata": {
        "id": "H_M3KiKlbdmA"
      }
    },
    {
      "cell_type": "code",
      "source": [
        "batch_size = 32\n",
        "\n",
        "# Data Generation - Train - Test\n",
        "train_datagen = ImageDataGenerator(rescale= 1./255,\n",
        "                   shear_range = 0.3,\n",
        "                   horizontal_flip=True,\n",
        "                   zoom_range = 0.3)\n",
        "\n",
        "test_datagen = ImageDataGenerator(rescale= 1./255)\n",
        "\n",
        "train_generator = train_datagen.flow_from_directory(\n",
        "        train_path,\n",
        "        target_size=x.shape[:2],\n",
        "        batch_size = batch_size,\n",
        "        color_mode= \"rgb\",\n",
        "        class_mode= \"categorical\")\n",
        "\n",
        "test_generator = test_datagen.flow_from_directory(\n",
        "        test_path,\n",
        "        target_size=x.shape[:2],\n",
        "        batch_size = batch_size,\n",
        "        color_mode= \"rgb\",\n",
        "        class_mode= \"categorical\")"
      ],
      "metadata": {
        "colab": {
          "base_uri": "https://localhost:8080/"
        },
        "id": "JvUMc69dbb70",
        "outputId": "6d21ca46-6b81-486c-d52e-30d68c99a810"
      },
      "execution_count": 11,
      "outputs": [
        {
          "output_type": "stream",
          "name": "stdout",
          "text": [
            "Found 67692 images belonging to 131 classes.\n",
            "Found 22688 images belonging to 131 classes.\n"
          ]
        }
      ]
    },
    {
      "cell_type": "markdown",
      "source": [
        "\n",
        "## Arquitecturas de modelos a entrenar (al menos 2)."
      ],
      "metadata": {
        "id": "xfEgN1vSdkS1"
      }
    },
    {
      "cell_type": "code",
      "source": [
        "# CNN Model\n",
        "model = Sequential()\n",
        "model.add(Conv2D(32,(3,3),input_shape = x.shape))\n",
        "model.add(Activation(\"relu\"))\n",
        "model.add(MaxPooling2D())\n",
        "\n",
        "model.add(Conv2D(32,(3,3)))\n",
        "model.add(Activation(\"relu\"))\n",
        "model.add(MaxPooling2D())\n",
        "\n",
        "model.add(Conv2D(64,(3,3)))\n",
        "model.add(Activation(\"relu\"))\n",
        "model.add(MaxPooling2D())\n",
        "\n",
        "model.add(Flatten())\n",
        "model.add(Dense(1024))\n",
        "model.add(Activation(\"relu\"))\n",
        "model.add(Dropout(0.5))\n",
        "model.add(Dense(numberOfClass)) # output\n",
        "model.add(Activation(\"softmax\"))\n",
        "\n",
        "model.compile(loss = \"categorical_crossentropy\",\n",
        "              optimizer = \"rmsprop\",\n",
        "              metrics = [\"accuracy\"])"
      ],
      "metadata": {
        "id": "0F2V2gNjdkkt"
      },
      "execution_count": 12,
      "outputs": []
    },
    {
      "cell_type": "code",
      "source": [
        "hist = model.fit_generator(\n",
        "        generator = train_generator,\n",
        "        steps_per_epoch = 1600 // batch_size,\n",
        "        epochs=100,\n",
        "        validation_data = test_generator,\n",
        "        validation_steps = 800 // batch_size)"
      ],
      "metadata": {
        "colab": {
          "base_uri": "https://localhost:8080/"
        },
        "id": "dcGh-gwDeE_k",
        "outputId": "cb5140c5-9b69-4943-af3d-5eae13e0d26c"
      },
      "execution_count": 13,
      "outputs": [
        {
          "output_type": "stream",
          "name": "stderr",
          "text": [
            "<ipython-input-13-b202754eede6>:1: UserWarning: `Model.fit_generator` is deprecated and will be removed in a future version. Please use `Model.fit`, which supports generators.\n",
            "  hist = model.fit_generator(\n"
          ]
        },
        {
          "output_type": "stream",
          "name": "stdout",
          "text": [
            "Epoch 1/100\n",
            "50/50 [==============================] - 20s 136ms/step - loss: 4.7742 - accuracy: 0.0206 - val_loss: 4.3797 - val_accuracy: 0.0525\n",
            "Epoch 2/100\n",
            "50/50 [==============================] - 6s 112ms/step - loss: 4.0876 - accuracy: 0.0706 - val_loss: 3.4202 - val_accuracy: 0.1688\n",
            "Epoch 3/100\n",
            "50/50 [==============================] - 6s 117ms/step - loss: 3.4201 - accuracy: 0.1363 - val_loss: 2.7280 - val_accuracy: 0.3000\n",
            "Epoch 4/100\n",
            "50/50 [==============================] - 6s 122ms/step - loss: 2.8722 - accuracy: 0.2319 - val_loss: 2.1161 - val_accuracy: 0.4162\n",
            "Epoch 5/100\n",
            "50/50 [==============================] - 5s 108ms/step - loss: 2.4125 - accuracy: 0.3275 - val_loss: 2.0028 - val_accuracy: 0.4062\n",
            "Epoch 6/100\n",
            "50/50 [==============================] - 5s 110ms/step - loss: 2.1089 - accuracy: 0.3950 - val_loss: 1.5007 - val_accuracy: 0.6012\n",
            "Epoch 7/100\n",
            "50/50 [==============================] - 6s 111ms/step - loss: 1.8332 - accuracy: 0.4519 - val_loss: 1.6829 - val_accuracy: 0.4900\n",
            "Epoch 8/100\n",
            "50/50 [==============================] - 7s 134ms/step - loss: 1.5517 - accuracy: 0.5256 - val_loss: 1.1090 - val_accuracy: 0.6737\n",
            "Epoch 9/100\n",
            "50/50 [==============================] - 5s 107ms/step - loss: 1.3305 - accuracy: 0.5962 - val_loss: 1.0629 - val_accuracy: 0.6538\n",
            "Epoch 10/100\n",
            "50/50 [==============================] - 6s 128ms/step - loss: 1.2662 - accuracy: 0.6225 - val_loss: 1.0578 - val_accuracy: 0.6675\n",
            "Epoch 11/100\n",
            "50/50 [==============================] - 6s 115ms/step - loss: 1.0654 - accuracy: 0.6856 - val_loss: 1.1027 - val_accuracy: 0.6463\n",
            "Epoch 12/100\n",
            "50/50 [==============================] - 6s 114ms/step - loss: 0.9825 - accuracy: 0.6938 - val_loss: 0.5335 - val_accuracy: 0.8512\n",
            "Epoch 13/100\n",
            "50/50 [==============================] - 6s 124ms/step - loss: 0.9278 - accuracy: 0.7088 - val_loss: 0.6918 - val_accuracy: 0.7738\n",
            "Epoch 14/100\n",
            "50/50 [==============================] - 7s 133ms/step - loss: 0.8763 - accuracy: 0.7244 - val_loss: 0.6506 - val_accuracy: 0.8037\n",
            "Epoch 15/100\n",
            "50/50 [==============================] - 5s 109ms/step - loss: 0.7531 - accuracy: 0.7675 - val_loss: 0.6478 - val_accuracy: 0.8250\n",
            "Epoch 16/100\n",
            "50/50 [==============================] - 7s 134ms/step - loss: 0.6444 - accuracy: 0.7956 - val_loss: 0.5717 - val_accuracy: 0.8275\n",
            "Epoch 17/100\n",
            "50/50 [==============================] - 5s 110ms/step - loss: 0.7186 - accuracy: 0.7763 - val_loss: 0.5617 - val_accuracy: 0.8612\n",
            "Epoch 18/100\n",
            "50/50 [==============================] - 7s 143ms/step - loss: 0.5467 - accuracy: 0.8219 - val_loss: 0.4705 - val_accuracy: 0.8725\n",
            "Epoch 19/100\n",
            "50/50 [==============================] - 5s 108ms/step - loss: 0.6087 - accuracy: 0.8138 - val_loss: 0.4184 - val_accuracy: 0.8838\n",
            "Epoch 20/100\n",
            "50/50 [==============================] - 7s 134ms/step - loss: 0.5044 - accuracy: 0.8350 - val_loss: 0.4217 - val_accuracy: 0.8813\n",
            "Epoch 21/100\n",
            "50/50 [==============================] - 5s 109ms/step - loss: 0.5383 - accuracy: 0.8300 - val_loss: 0.3285 - val_accuracy: 0.9038\n",
            "Epoch 22/100\n",
            "50/50 [==============================] - 6s 128ms/step - loss: 0.5146 - accuracy: 0.8300 - val_loss: 0.3069 - val_accuracy: 0.9050\n",
            "Epoch 23/100\n",
            "50/50 [==============================] - 7s 134ms/step - loss: 0.4759 - accuracy: 0.8400 - val_loss: 0.3147 - val_accuracy: 0.9125\n",
            "Epoch 24/100\n",
            "50/50 [==============================] - 6s 122ms/step - loss: 0.4536 - accuracy: 0.8500 - val_loss: 0.2835 - val_accuracy: 0.9250\n",
            "Epoch 25/100\n",
            "50/50 [==============================] - 5s 108ms/step - loss: 0.4542 - accuracy: 0.8581 - val_loss: 0.2574 - val_accuracy: 0.9162\n",
            "Epoch 26/100\n",
            "50/50 [==============================] - 7s 132ms/step - loss: 0.3827 - accuracy: 0.8687 - val_loss: 0.3069 - val_accuracy: 0.9013\n",
            "Epoch 27/100\n",
            "50/50 [==============================] - 5s 108ms/step - loss: 0.4167 - accuracy: 0.8681 - val_loss: 0.2699 - val_accuracy: 0.9225\n",
            "Epoch 28/100\n",
            "50/50 [==============================] - 7s 133ms/step - loss: 0.3893 - accuracy: 0.8788 - val_loss: 0.2805 - val_accuracy: 0.9200\n",
            "Epoch 29/100\n",
            "50/50 [==============================] - 6s 110ms/step - loss: 0.4042 - accuracy: 0.8750 - val_loss: 0.5444 - val_accuracy: 0.8575\n",
            "Epoch 30/100\n",
            "50/50 [==============================] - 6s 112ms/step - loss: 0.3410 - accuracy: 0.8888 - val_loss: 0.5131 - val_accuracy: 0.8512\n",
            "Epoch 31/100\n",
            "50/50 [==============================] - 6s 110ms/step - loss: 0.2832 - accuracy: 0.9125 - val_loss: 0.2313 - val_accuracy: 0.9325\n",
            "Epoch 32/100\n",
            "50/50 [==============================] - 6s 125ms/step - loss: 0.3527 - accuracy: 0.8750 - val_loss: 0.3311 - val_accuracy: 0.8925\n",
            "Epoch 33/100\n",
            "50/50 [==============================] - 7s 134ms/step - loss: 0.2987 - accuracy: 0.9119 - val_loss: 0.3972 - val_accuracy: 0.8875\n",
            "Epoch 34/100\n",
            "50/50 [==============================] - 8s 156ms/step - loss: 0.3386 - accuracy: 0.8894 - val_loss: 0.1833 - val_accuracy: 0.9488\n",
            "Epoch 35/100\n",
            "50/50 [==============================] - 7s 146ms/step - loss: 0.2796 - accuracy: 0.9075 - val_loss: 0.3472 - val_accuracy: 0.8925\n",
            "Epoch 36/100\n",
            "50/50 [==============================] - 5s 108ms/step - loss: 0.3183 - accuracy: 0.8938 - val_loss: 0.2579 - val_accuracy: 0.9325\n",
            "Epoch 37/100\n",
            "50/50 [==============================] - 7s 132ms/step - loss: 0.2843 - accuracy: 0.9100 - val_loss: 0.2808 - val_accuracy: 0.9250\n",
            "Epoch 38/100\n",
            "50/50 [==============================] - 5s 107ms/step - loss: 0.2861 - accuracy: 0.9081 - val_loss: 0.2718 - val_accuracy: 0.9250\n",
            "Epoch 39/100\n",
            "50/50 [==============================] - 5s 108ms/step - loss: 0.2897 - accuracy: 0.9056 - val_loss: 0.2717 - val_accuracy: 0.9112\n",
            "Epoch 40/100\n",
            "50/50 [==============================] - 7s 131ms/step - loss: 0.2899 - accuracy: 0.9069 - val_loss: 0.2432 - val_accuracy: 0.9237\n",
            "Epoch 41/100\n",
            "50/50 [==============================] - 5s 107ms/step - loss: 0.2587 - accuracy: 0.9162 - val_loss: 0.3229 - val_accuracy: 0.8938\n",
            "Epoch 42/100\n",
            "50/50 [==============================] - 6s 116ms/step - loss: 0.2529 - accuracy: 0.9137 - val_loss: 0.3428 - val_accuracy: 0.8938\n",
            "Epoch 43/100\n",
            "50/50 [==============================] - 5s 108ms/step - loss: 0.2184 - accuracy: 0.9244 - val_loss: 0.1792 - val_accuracy: 0.9450\n",
            "Epoch 44/100\n",
            "50/50 [==============================] - 5s 109ms/step - loss: 0.2495 - accuracy: 0.9281 - val_loss: 0.2402 - val_accuracy: 0.9362\n",
            "Epoch 45/100\n",
            "50/50 [==============================] - 5s 110ms/step - loss: 0.2321 - accuracy: 0.9256 - val_loss: 0.1819 - val_accuracy: 0.9500\n",
            "Epoch 46/100\n",
            "50/50 [==============================] - 6s 121ms/step - loss: 0.2318 - accuracy: 0.9294 - val_loss: 0.1739 - val_accuracy: 0.9450\n",
            "Epoch 47/100\n",
            "50/50 [==============================] - 7s 139ms/step - loss: 0.2189 - accuracy: 0.9256 - val_loss: 0.2988 - val_accuracy: 0.9237\n",
            "Epoch 48/100\n",
            "50/50 [==============================] - 5s 107ms/step - loss: 0.2286 - accuracy: 0.9256 - val_loss: 0.2502 - val_accuracy: 0.9337\n",
            "Epoch 49/100\n",
            "50/50 [==============================] - 7s 131ms/step - loss: 0.2227 - accuracy: 0.9269 - val_loss: 0.1715 - val_accuracy: 0.9563\n",
            "Epoch 50/100\n",
            "50/50 [==============================] - 7s 139ms/step - loss: 0.2189 - accuracy: 0.9281 - val_loss: 0.4620 - val_accuracy: 0.8763\n",
            "Epoch 51/100\n",
            "50/50 [==============================] - 5s 107ms/step - loss: 0.2496 - accuracy: 0.9281 - val_loss: 0.1700 - val_accuracy: 0.9663\n",
            "Epoch 52/100\n",
            "50/50 [==============================] - 5s 109ms/step - loss: 0.1731 - accuracy: 0.9538 - val_loss: 0.3395 - val_accuracy: 0.9038\n",
            "Epoch 53/100\n",
            "50/50 [==============================] - 5s 109ms/step - loss: 0.1983 - accuracy: 0.9356 - val_loss: 0.1253 - val_accuracy: 0.9550\n",
            "Epoch 54/100\n",
            "50/50 [==============================] - 7s 140ms/step - loss: 0.1947 - accuracy: 0.9350 - val_loss: 0.1507 - val_accuracy: 0.9675\n",
            "Epoch 55/100\n",
            "50/50 [==============================] - 5s 108ms/step - loss: 0.2043 - accuracy: 0.9337 - val_loss: 0.2980 - val_accuracy: 0.9187\n",
            "Epoch 56/100\n",
            "50/50 [==============================] - 5s 108ms/step - loss: 0.1761 - accuracy: 0.9475 - val_loss: 0.2998 - val_accuracy: 0.9200\n",
            "Epoch 57/100\n",
            "50/50 [==============================] - 6s 111ms/step - loss: 0.2104 - accuracy: 0.9367 - val_loss: 0.1571 - val_accuracy: 0.9525\n",
            "Epoch 58/100\n",
            "50/50 [==============================] - 6s 121ms/step - loss: 0.1814 - accuracy: 0.9450 - val_loss: 0.2747 - val_accuracy: 0.9225\n",
            "Epoch 59/100\n",
            "50/50 [==============================] - 6s 118ms/step - loss: 0.2324 - accuracy: 0.9312 - val_loss: 0.1395 - val_accuracy: 0.9550\n",
            "Epoch 60/100\n",
            "50/50 [==============================] - 6s 124ms/step - loss: 0.1395 - accuracy: 0.9557 - val_loss: 0.2409 - val_accuracy: 0.9388\n",
            "Epoch 61/100\n",
            "50/50 [==============================] - 5s 109ms/step - loss: 0.1477 - accuracy: 0.9538 - val_loss: 0.1385 - val_accuracy: 0.9513\n",
            "Epoch 62/100\n",
            "50/50 [==============================] - 5s 107ms/step - loss: 0.2043 - accuracy: 0.9438 - val_loss: 0.1795 - val_accuracy: 0.9538\n",
            "Epoch 63/100\n",
            "50/50 [==============================] - 7s 133ms/step - loss: 0.1965 - accuracy: 0.9337 - val_loss: 0.1176 - val_accuracy: 0.9675\n",
            "Epoch 64/100\n",
            "50/50 [==============================] - 5s 108ms/step - loss: 0.1475 - accuracy: 0.9513 - val_loss: 0.2034 - val_accuracy: 0.9475\n",
            "Epoch 65/100\n",
            "50/50 [==============================] - 5s 107ms/step - loss: 0.1899 - accuracy: 0.9413 - val_loss: 0.2315 - val_accuracy: 0.9337\n",
            "Epoch 66/100\n",
            "50/50 [==============================] - 7s 131ms/step - loss: 0.1533 - accuracy: 0.9550 - val_loss: 0.1473 - val_accuracy: 0.9625\n",
            "Epoch 67/100\n",
            "50/50 [==============================] - 5s 108ms/step - loss: 0.1667 - accuracy: 0.9444 - val_loss: 0.1918 - val_accuracy: 0.9450\n",
            "Epoch 68/100\n",
            "50/50 [==============================] - 5s 107ms/step - loss: 0.1737 - accuracy: 0.9444 - val_loss: 0.2973 - val_accuracy: 0.9337\n",
            "Epoch 69/100\n",
            "50/50 [==============================] - 6s 114ms/step - loss: 0.2046 - accuracy: 0.9400 - val_loss: 0.1440 - val_accuracy: 0.9575\n",
            "Epoch 70/100\n",
            "50/50 [==============================] - 6s 110ms/step - loss: 0.1396 - accuracy: 0.9525 - val_loss: 0.1756 - val_accuracy: 0.9500\n",
            "Epoch 71/100\n",
            "50/50 [==============================] - 5s 108ms/step - loss: 0.1645 - accuracy: 0.9463 - val_loss: 0.2067 - val_accuracy: 0.9400\n",
            "Epoch 72/100\n",
            "50/50 [==============================] - 7s 131ms/step - loss: 0.1470 - accuracy: 0.9544 - val_loss: 0.2346 - val_accuracy: 0.9413\n",
            "Epoch 73/100\n",
            "50/50 [==============================] - 5s 107ms/step - loss: 0.1358 - accuracy: 0.9588 - val_loss: 0.1689 - val_accuracy: 0.9600\n",
            "Epoch 74/100\n",
            "50/50 [==============================] - 5s 108ms/step - loss: 0.1363 - accuracy: 0.9581 - val_loss: 0.1201 - val_accuracy: 0.9638\n",
            "Epoch 75/100\n",
            "50/50 [==============================] - 6s 112ms/step - loss: 0.1255 - accuracy: 0.9638 - val_loss: 0.1362 - val_accuracy: 0.9588\n",
            "Epoch 76/100\n",
            "50/50 [==============================] - 7s 134ms/step - loss: 0.1248 - accuracy: 0.9600 - val_loss: 0.2965 - val_accuracy: 0.9275\n",
            "Epoch 77/100\n",
            "50/50 [==============================] - 7s 145ms/step - loss: 0.1108 - accuracy: 0.9606 - val_loss: 0.1590 - val_accuracy: 0.9600\n",
            "Epoch 78/100\n",
            "50/50 [==============================] - 5s 107ms/step - loss: 0.1230 - accuracy: 0.9625 - val_loss: 0.2441 - val_accuracy: 0.9388\n",
            "Epoch 79/100\n",
            "50/50 [==============================] - 7s 132ms/step - loss: 0.1716 - accuracy: 0.9456 - val_loss: 0.1981 - val_accuracy: 0.9463\n",
            "Epoch 80/100\n",
            "50/50 [==============================] - 5s 108ms/step - loss: 0.1412 - accuracy: 0.9613 - val_loss: 0.1178 - val_accuracy: 0.9675\n",
            "Epoch 81/100\n",
            "50/50 [==============================] - 7s 132ms/step - loss: 0.1280 - accuracy: 0.9563 - val_loss: 0.1221 - val_accuracy: 0.9613\n",
            "Epoch 82/100\n",
            "50/50 [==============================] - 8s 154ms/step - loss: 0.1432 - accuracy: 0.9538 - val_loss: 0.2169 - val_accuracy: 0.9388\n",
            "Epoch 83/100\n",
            "50/50 [==============================] - 5s 107ms/step - loss: 0.1460 - accuracy: 0.9544 - val_loss: 0.1537 - val_accuracy: 0.9550\n",
            "Epoch 84/100\n",
            "50/50 [==============================] - 6s 121ms/step - loss: 0.1244 - accuracy: 0.9613 - val_loss: 0.1404 - val_accuracy: 0.9650\n",
            "Epoch 85/100\n",
            "50/50 [==============================] - 7s 134ms/step - loss: 0.1184 - accuracy: 0.9581 - val_loss: 0.1129 - val_accuracy: 0.9700\n",
            "Epoch 86/100\n",
            "50/50 [==============================] - 5s 108ms/step - loss: 0.1245 - accuracy: 0.9613 - val_loss: 0.1239 - val_accuracy: 0.9688\n",
            "Epoch 87/100\n",
            "50/50 [==============================] - 7s 132ms/step - loss: 0.1511 - accuracy: 0.9519 - val_loss: 0.2064 - val_accuracy: 0.9613\n",
            "Epoch 88/100\n",
            "50/50 [==============================] - 6s 122ms/step - loss: 0.1288 - accuracy: 0.9619 - val_loss: 0.1675 - val_accuracy: 0.9600\n",
            "Epoch 89/100\n",
            "50/50 [==============================] - 5s 107ms/step - loss: 0.1090 - accuracy: 0.9631 - val_loss: 0.2030 - val_accuracy: 0.9475\n",
            "Epoch 90/100\n",
            "50/50 [==============================] - 5s 108ms/step - loss: 0.1400 - accuracy: 0.9500 - val_loss: 0.1650 - val_accuracy: 0.9588\n",
            "Epoch 91/100\n",
            "50/50 [==============================] - 7s 135ms/step - loss: 0.1331 - accuracy: 0.9575 - val_loss: 0.2928 - val_accuracy: 0.9413\n",
            "Epoch 92/100\n",
            "50/50 [==============================] - 5s 109ms/step - loss: 0.1562 - accuracy: 0.9581 - val_loss: 0.4015 - val_accuracy: 0.8950\n",
            "Epoch 93/100\n",
            "50/50 [==============================] - 6s 110ms/step - loss: 0.1593 - accuracy: 0.9525 - val_loss: 0.1682 - val_accuracy: 0.9600\n",
            "Epoch 94/100\n",
            "50/50 [==============================] - 5s 109ms/step - loss: 0.1385 - accuracy: 0.9575 - val_loss: 0.0850 - val_accuracy: 0.9837\n",
            "Epoch 95/100\n",
            "50/50 [==============================] - 7s 134ms/step - loss: 0.1108 - accuracy: 0.9650 - val_loss: 0.1199 - val_accuracy: 0.9675\n",
            "Epoch 96/100\n",
            "50/50 [==============================] - 5s 108ms/step - loss: 0.1296 - accuracy: 0.9581 - val_loss: 0.1374 - val_accuracy: 0.9675\n",
            "Epoch 97/100\n",
            "50/50 [==============================] - 7s 139ms/step - loss: 0.1207 - accuracy: 0.9600 - val_loss: 0.2801 - val_accuracy: 0.9275\n",
            "Epoch 98/100\n",
            "50/50 [==============================] - 5s 109ms/step - loss: 0.1071 - accuracy: 0.9688 - val_loss: 0.0954 - val_accuracy: 0.9675\n",
            "Epoch 99/100\n",
            "50/50 [==============================] - 7s 134ms/step - loss: 0.1361 - accuracy: 0.9650 - val_loss: 0.0998 - val_accuracy: 0.9700\n",
            "Epoch 100/100\n",
            "50/50 [==============================] - 5s 108ms/step - loss: 0.1141 - accuracy: 0.9594 - val_loss: 0.2655 - val_accuracy: 0.9287\n"
          ]
        }
      ]
    },
    {
      "cell_type": "code",
      "source": [
        "# model save\n",
        "model.save(\"fruit.h5\")"
      ],
      "metadata": {
        "id": "NxLDm_queObL"
      },
      "execution_count": 14,
      "outputs": []
    },
    {
      "cell_type": "code",
      "source": [
        "# model evaluation\n",
        "print(hist.history.keys())\n",
        "plt.plot(hist.history[\"loss\"], label = \"Train Loss\")\n",
        "plt.plot(hist.history[\"val_loss\"], label = \"Validation Loss\")\n",
        "plt.legend()\n",
        "plt.show()\n",
        "plt.figure()\n",
        "plt.plot(hist.history[\"accuracy\"], label = \"Train acc\")\n",
        "plt.plot(hist.history[\"val_accuracy\"], label = \"Validation acc\")\n",
        "plt.legend()\n",
        "plt.show()"
      ],
      "metadata": {
        "colab": {
          "base_uri": "https://localhost:8080/",
          "height": 865
        },
        "id": "zGhBRx9NeWau",
        "outputId": "a5ff938a-f4eb-4b7c-d2a4-594342926525"
      },
      "execution_count": 15,
      "outputs": [
        {
          "output_type": "stream",
          "name": "stdout",
          "text": [
            "dict_keys(['loss', 'accuracy', 'val_loss', 'val_accuracy'])\n"
          ]
        },
        {
          "output_type": "display_data",
          "data": {
            "text/plain": [
              "<Figure size 640x480 with 1 Axes>"
            ],
            "image/png": "[encoded data removed]"
          },
          "metadata": {}
        },
        {
          "output_type": "display_data",
          "data": {
            "text/plain": [
              "<Figure size 640x480 with 1 Axes>"
            ],
            "image/png": "[encoded data removed]"
          },
          "metadata": {}
        }
      ]
    },
    {
      "cell_type": "markdown",
      "source": [],
      "metadata": {
        "id": "9YlcirM5eHBK"
      }
    },
    {
      "cell_type": "markdown",
      "source": [
        "## Uso de Transfer Learning."
      ],
      "metadata": {
        "id": "mQ3lbobDluDv"
      }
    },
    {
      "cell_type": "markdown",
      "source": [
        "Guía documentación para transfer learning con Keras\n",
        "\n",
        "https://keras.io/guides/transfer_learning/\n"
      ],
      "metadata": {
        "id": "VfmQrs16ucuK"
      }
    },
    {
      "cell_type": "markdown",
      "source": [
        "### MobileNet"
      ],
      "metadata": {
        "id": "O8p9sIfxenD2"
      }
    },
    {
      "cell_type": "code",
      "source": [
        "base_model = MobileNet(weights='imagenet', include_top=False)\n",
        "\n",
        "# Add custom layers on top of the base_model\n",
        "x = base_model.output\n",
        "x = GlobalAveragePooling2D()(x)\n",
        "x = Dense(512, activation='relu')(x)\n",
        "x = Dropout(0.5)(x)\n",
        "\n",
        "# Output layer with the number of classes in your dataset\n",
        "num_classes = len(train_generator.class_indices)\n",
        "predictions = Dense(num_classes, activation='softmax')(x)\n",
        "\n",
        "# Create the custom model by specifying the input and output layers\n",
        "modelMobileNet = Model(inputs=base_model.input, outputs=predictions)\n",
        "\n",
        "\n",
        "# Optional: Freeze the layers of MobileNet so that they are not re-trained during the transfer learning process\n",
        "for layer in base_model.layers:\n",
        "    layer.trainable = False\n",
        "\n",
        "# Compile the model with an optimizer, loss, and metrics\n",
        "modelMobileNet.compile(optimizer='adam', loss='categorical_crossentropy', metrics=['accuracy'])\n",
        "\n",
        "# Train the model with your data\n",
        "epochs = 3  # You can adjust the number of epochs based on the dataset size and convergence\n",
        "modelMobileNet.fit(\n",
        "    train_generator,\n",
        "    epochs=epochs,\n",
        ")"
      ],
      "metadata": {
        "colab": {
          "base_uri": "https://localhost:8080/"
        },
        "id": "WXvAlLQ-drQD",
        "outputId": "584c6e5e-5634-4e5c-db40-b9db51f767f1"
      },
      "execution_count": 16,
      "outputs": [
        {
          "output_type": "stream",
          "name": "stderr",
          "text": [
            "WARNING:tensorflow:`input_shape` is undefined or non-square, or `rows` is not in [128, 160, 192, 224]. Weights for input shape (224, 224) will be loaded as the default.\n"
          ]
        },
        {
          "output_type": "stream",
          "name": "stdout",
          "text": [
            "Downloading data from https://storage.googleapis.com/tensorflow/keras-applications/mobilenet/mobilenet_1_0_224_tf_no_top.h5\n",
            "17225924/17225924 [==============================] - 0s 0us/step\n",
            "Epoch 1/3\n",
            "2116/2116 [==============================] - 225s 105ms/step - loss: 0.6841 - accuracy: 0.8093\n",
            "Epoch 2/3\n",
            "2116/2116 [==============================] - 222s 105ms/step - loss: 0.2463 - accuracy: 0.9214\n",
            "Epoch 3/3\n",
            "2116/2116 [==============================] - 225s 106ms/step - loss: 0.2148 - accuracy: 0.9336\n"
          ]
        },
        {
          "output_type": "execute_result",
          "data": {
            "text/plain": [
              "<keras.callbacks.History at 0x7b098022ec20>"
            ]
          },
          "metadata": {},
          "execution_count": 16
        }
      ]
    },
    {
      "cell_type": "code",
      "source": [
        "kevaluation = modelMobileNet.evaluate(test_generator)"
      ],
      "metadata": {
        "colab": {
          "base_uri": "https://localhost:8080/"
        },
        "id": "2LUbveg7tpRv",
        "outputId": "49ee10d6-3319-46d1-b7d3-d3141f3f26a5"
      },
      "execution_count": 17,
      "outputs": [
        {
          "output_type": "stream",
          "name": "stdout",
          "text": [
            "709/709 [==============================] - 19s 27ms/step - loss: 0.2739 - accuracy: 0.9416\n"
          ]
        }
      ]
    },
    {
      "cell_type": "code",
      "source": [
        "# The evaluation result will be a list containing the loss and metrics values\n",
        "loss = kevaluation[0]\n",
        "accuracy = kevaluation[1]\n",
        "\n",
        "print(f\"Test Loss: {loss:.4f}, Test Accuracy: {accuracy:.4f}\")"
      ],
      "metadata": {
        "colab": {
          "base_uri": "https://localhost:8080/"
        },
        "id": "9kv2ynKat6pA",
        "outputId": "74d11fee-d509-45fd-fbdb-741db7c69c22"
      },
      "execution_count": 18,
      "outputs": [
        {
          "output_type": "stream",
          "name": "stdout",
          "text": [
            "Test Loss: 0.2739, Test Accuracy: 0.9416\n"
          ]
        }
      ]
    },
    {
      "cell_type": "markdown",
      "source": [
        "\n",
        "## Entrenamientos realizados (al menos 4). Hiperparametros utilizados en cada uno.\n",
        "\n",
        "\n"
      ],
      "metadata": {
        "id": "yh5x4XTidrl6"
      }
    },
    {
      "cell_type": "code",
      "source": [],
      "metadata": {
        "id": "jxbpHyw-uJmi"
      },
      "execution_count": null,
      "outputs": []
    },
    {
      "cell_type": "markdown",
      "source": [
        "## Gráficas de resultados y sus comparaciones."
      ],
      "metadata": {
        "id": "mbRPrJ8JuJ4I"
      }
    },
    {
      "cell_type": "code",
      "source": [],
      "metadata": {
        "id": "_Mxq_IoWuKbN"
      },
      "execution_count": null,
      "outputs": []
    },
    {
      "cell_type": "markdown",
      "source": [
        "\n",
        "\n",
        "## Conclusiones."
      ],
      "metadata": {
        "id": "YfKz3gOeuFqf"
      }
    },
    {
      "cell_type": "code",
      "source": [],
      "metadata": {
        "id": "YlBf_L4PdsG0"
      },
      "execution_count": null,
      "outputs": []
    },
    {
      "cell_type": "markdown",
      "source": [
        "\n",
        "## Enfoque futuro de interés\n",
        "\n",
        "https://www.kaggle.com/datasets/muhriddinmuxiddinov/fruits-and-vegetables-dataset\n",
        "\n",
        "\n",
        "### Dataset\n",
        "\n",
        "Mukhriddin Mukhiddinov. (2022). <i>Fruits and Vegetables dataset</i> [Data set]. Kaggle. https://doi.org/10.34740/KAGGLE/DS/2468468\n",
        "\n",
        "### Paper\n",
        "\n",
        "Mukhiddinov, M.; Muminov, A.; Cho, J. Improved Classification Approach for Fruits and Vegetables Freshness Based on Deep Learning. Sensors 2022, 22, 8192. https://doi.org/10.3390/s22218192\n",
        "\n",
        "# Referencias\n",
        "\n",
        "[1] Horea Muresan, Mihai Oltean, Fruit recognition from images using deep learning, Acta Univ. Sapientiae, Informatica Vol. 10, Issue 1, pp. 26-42, 2018.\n",
        "\n",
        "\n"
      ],
      "metadata": {
        "id": "PmsrL_Uga4va"
      }
    }
  ]
}